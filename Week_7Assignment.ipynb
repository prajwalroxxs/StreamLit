{
  "nbformat": 4,
  "nbformat_minor": 0,
  "metadata": {
    "colab": {
      "provenance": []
    },
    "kernelspec": {
      "name": "python3",
      "display_name": "Python 3"
    },
    "language_info": {
      "name": "python"
    }
  },
  "cells": [
    {
      "cell_type": "code",
      "source": [
        "import seaborn as sns\n",
        "import pandas as pd\n",
        "from sklearn.model_selection import train_test_split\n",
        "from sklearn.ensemble import RandomForestClassifier\n",
        "import joblib\n",
        "\n",
        "df = sns.load_dataset('titanic')\n",
        "df = df[[\"pclass\", \"sex\", \"age\", \"sibsp\", \"parch\", \"fare\", \"survived\"]].dropna()\n",
        "df[\"sex\"] = df[\"sex\"].map({\"male\": 1, \"female\": 0})\n",
        "\n",
        "X = df[[\"pclass\", \"sex\", \"age\", \"sibsp\", \"parch\", \"fare\"]]\n",
        "y = df[\"survived\"]\n",
        "\n",
        "X_train, X_test, y_train, y_test = train_test_split(X, y, test_size=0.2, random_state=42)\n",
        "\n",
        "model = RandomForestClassifier(n_estimators=100, random_state=42)\n",
        "model.fit(X_train, y_train)\n",
        "\n",
        "joblib.dump(model, \"model.pkl\")\n"
      ],
      "metadata": {
        "colab": {
          "base_uri": "https://localhost:8080/"
        },
        "id": "HYnWx7Yd6uoQ",
        "outputId": "b7026b95-9284-4e8a-ed64-7d9e0fe3039a"
      },
      "execution_count": 6,
      "outputs": [
        {
          "output_type": "execute_result",
          "data": {
            "text/plain": [
              "['model.pkl']"
            ]
          },
          "metadata": {},
          "execution_count": 6
        }
      ]
    },
    {
      "cell_type": "code",
      "source": [
        "code = '''\n",
        "import streamlit as st\n",
        "import numpy as np\n",
        "import joblib\n",
        "\n",
        "model = joblib.load(\"model.pkl\")\n",
        "\n",
        "st.set_page_config(page_title=\"Titanic Survival Predictor\", page_icon=\"🚢\")\n",
        "st.title(\"Titanic Survival Predictor\")\n",
        "st.write(\"Enter passenger details below:\")\n",
        "\n",
        "pclass = st.selectbox(\"Passenger Class\", [1, 2, 3])\n",
        "sex = st.radio(\"Sex\", [\"Male\", \"Female\"])\n",
        "age = st.slider(\"Age\", 1, 80, 25)\n",
        "sibsp = st.slider(\"Siblings/Spouses Aboard\", 0, 5, 0)\n",
        "parch = st.slider(\"Parents/Children Aboard\", 0, 5, 0)\n",
        "fare = st.slider(\"Fare Paid\", 0.0, 300.0, 32.0)\n",
        "\n",
        "sex_encoded = 1 if sex == \"Male\" else 0\n",
        "input_data = np.array([[pclass, sex_encoded, age, sibsp, parch, fare]])\n",
        "\n",
        "if st.button(\"Predict\"):\n",
        "    pred = model.predict(input_data)[0]\n",
        "    proba = model.predict_proba(input_data)[0]\n",
        "\n",
        "    st.subheader(\"Prediction\")\n",
        "    st.write(f\"The passenger would have **{'survived' if pred == 1 else 'not survived'}**.\")\n",
        "\n",
        "    st.subheader(\"Prediction Probabilities\")\n",
        "    st.bar_chart(proba)\n",
        "'''\n",
        "\n",
        "with open(\"app.py\", \"w\") as f:\n",
        "    f.write(code)\n"
      ],
      "metadata": {
        "id": "E2pAtrNG70DE"
      },
      "execution_count": 8,
      "outputs": []
    }
  ]
}